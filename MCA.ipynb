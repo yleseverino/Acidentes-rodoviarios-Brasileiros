{
 "cells": [
  {
   "cell_type": "code",
   "execution_count": 1,
   "metadata": {
    "scrolled": true
   },
   "outputs": [
    {
     "name": "stderr",
     "output_type": "stream",
     "text": [
      "Loading required package: ggplot2\n",
      "\n",
      "Welcome! Want to learn more? See two factoextra-related books at https://goo.gl/ve3WBa\n",
      "\n"
     ]
    },
    {
     "name": "stdout",
     "output_type": "stream",
     "text": [
      "'data.frame':\t67446 obs. of  30 variables:\n",
      " $ id                    : num  182210 182211 182212 182214 182215 ...\n",
      " $ data_inversa          : Factor w/ 365 levels \"2019-01-01\",\"2019-01-02\",..: 1 1 1 1 1 1 1 1 1 1 ...\n",
      " $ dia_semana            : Factor w/ 7 levels \"domingo\",\"quarta-feira\",..: 7 7 7 7 7 7 7 7 7 7 ...\n",
      " $ horario               : Factor w/ 1302 levels \"00:00:00\",\"00:01:00\",..: 75 75 37 1 52 89 75 42 115 108 ...\n",
      " $ uf                    : Factor w/ 27 levels \"AC\",\"AL\",\"AM\",..: 26 18 24 6 11 24 12 9 9 23 ...\n",
      " $ br                    : int  116 373 101 20 381 470 163 50 60 386 ...\n",
      " $ km                    : Factor w/ 7918 levels \"0\",\"0,1\",\"0,2\",..: 1420 965 774 3682 2607 3588 6456 2101 912 6530 ...\n",
      " $ municipio             : Factor w/ 1767 levels \"ABADIA DE GOIAS\",..: 669 1254 615 592 1065 616 473 386 627 196 ...\n",
      " $ causa_acidente        : Factor w/ 24 levels \"Agressão Externa\",..: 11 11 2 16 11 16 2 9 10 14 ...\n",
      " $ tipo_acidente         : Factor w/ 16 levels \"Atropelamento de Animal\",..: 5 9 5 5 8 15 1 8 2 6 ...\n",
      " $ classificacao_acidente: Factor w/ 3 levels \"Com Vítimas Fatais\",..: 2 2 2 2 2 2 3 2 1 2 ...\n",
      " $ fase_dia              : Factor w/ 4 levels \"Amanhecer\",\"Anoitecer\",..: 3 3 3 3 3 3 3 3 3 3 ...\n",
      " $ sentido_via           : Factor w/ 3 levels \"Crescente\",\"Decrescente\",..: 1 1 2 2 2 2 1 2 2 2 ...\n",
      " $ condicao_metereologica: Factor w/ 10 levels \"Céu Claro\",\"Chuva\",..: 1 8 1 8 8 1 1 1 2 8 ...\n",
      " $ tipo_pista            : Factor w/ 3 levels \"Dupla\",\"Múltipla\",..: 2 1 1 1 3 3 3 1 1 3 ...\n",
      " $ tracado_via           : Factor w/ 10 levels \"Curva\",\"Desvio Temporário\",..: 1 6 6 10 3 6 6 6 6 1 ...\n",
      " $ uso_solo              : Factor w/ 2 levels \"Não\",\"Sim\": 2 2 2 2 1 2 1 2 1 2 ...\n",
      " $ pessoas               : int  4 1 1 1 2 1 1 3 3 4 ...\n",
      " $ mortos                : int  0 0 0 0 0 0 0 0 1 0 ...\n",
      " $ feridos_leves         : int  4 1 1 0 0 1 0 1 0 2 ...\n",
      " $ feridos_graves        : int  0 0 0 1 1 0 0 0 0 2 ...\n",
      " $ ilesos                : int  0 0 0 0 1 0 0 2 0 0 ...\n",
      " $ ignorados             : int  0 0 0 0 0 0 1 0 2 0 ...\n",
      " $ feridos               : int  4 1 1 1 1 1 0 1 0 4 ...\n",
      " $ veiculos              : int  1 1 1 1 2 1 1 2 1 2 ...\n",
      " $ latitude              : Factor w/ 36928 levels \"-0,664476\",\"-0,840424\",..: 19418 21285 23834 29824 10043 25118 8094 7804 6503 26652 ...\n",
      " $ longitude             : Factor w/ 36899 levels \"-34,81499\",\"-34,82833385\",..: 16735 25928 21512 4294 10763 22088 33806 18793 24348 31555 ...\n",
      " $ regional              : Factor w/ 28 levels \"Não Informado\",..: 27 19 25 7 12 25 13 10 10 24 ...\n",
      " $ delegacia             : Factor w/ 173 levels \"AC\",\"CE\",\"COE\",..: 113 123 130 46 97 131 87 13 8 6 ...\n",
      " $ uop                   : Factor w/ 87 levels \"\",\"MG\",\"SRPRF/AC\",..: 26 19 24 29 12 24 13 10 31 44 ...\n"
     ]
    },
    {
     "data": {
      "text/plain": [
       "       id             data_inversa           dia_semana        horario     \n",
       " Min.   :182210   2019-12-21:  298   domingo      :11298   19:00:00:  983  \n",
       " 1st Qu.:202254   2019-12-07:  268   quarta-feira : 8374   18:00:00:  930  \n",
       " Median :221578   2019-09-08:  257   quinta-feira : 8755   18:30:00:  920  \n",
       " Mean   :221685   2019-06-09:  255   sábado       :11099   19:30:00:  773  \n",
       " 3rd Qu.:241146   2019-07-05:  254   segunda-feira: 9134   16:00:00:  744  \n",
       " Max.   :266627   2019-12-15:  254   sexta-feira  :10381   17:00:00:  743  \n",
       "                  (Other)   :65860   terça-feira  : 8405   (Other) :62353  \n",
       "       uf              br              km            municipio    \n",
       " MG     : 8720   Min.   : 10.0   1      :  305   CURITIBA : 1094  \n",
       " SC     : 8428   1st Qu.:101.0   3      :  286   BRASILIA : 1090  \n",
       " PR     : 7708   Median :163.0   2      :  258   SAO JOSE :  819  \n",
       " RJ     : 4606   Mean   :215.3   5      :  240   GUARULHOS:  717  \n",
       " RS     : 4595   3rd Qu.:343.0   4      :  235   SERRA    :  633  \n",
       " SP     : 4377   Max.   :495.0   (Other):66027   PALHOCA  :  606  \n",
       " (Other):29012   NA's   :95      NA's   :   95   (Other)  :62487  \n",
       "                                           causa_acidente \n",
       " Falta de Atenção à Condução                      :24992  \n",
       " Desobediência às normas de trânsito pelo condutor: 8098  \n",
       " Velocidade Incompatível                          : 6028  \n",
       " Ingestão de Álcool                               : 5419  \n",
       " Não guardar distância de segurança               : 4214  \n",
       " Defeito Mecânico no Veículo                      : 3732  \n",
       " (Other)                                          :14963  \n",
       "                     tipo_acidente           classificacao_acidente\n",
       " Colisão traseira           :13121   Com Vítimas Fatais : 4592     \n",
       " Saída de leito carroçável  :10304   Com Vítimas Feridas:51183     \n",
       " Colisão transversal        : 8780   Sem Vítimas        :11671     \n",
       " Colisão lateral            : 8341                                 \n",
       " Tombamento                 : 5153                                 \n",
       " Colisão com objeto estático: 4455                                 \n",
       " (Other)                    :17292                                 \n",
       "        fase_dia            sentido_via       condicao_metereologica\n",
       " Amanhecer  : 3279   Crescente    :35967   Céu Claro     :39370     \n",
       " Anoitecer  : 3684   Decrescente  :31384   Nublado       :11575     \n",
       " Plena Noite:23563   Não Informado:   95   Chuva         : 7216     \n",
       " Pleno dia  :36920                         Sol           : 5289     \n",
       "                                           Garoa/Chuvisco: 2305     \n",
       "                                           Ignorado      :  995     \n",
       "                                           (Other)       :  696     \n",
       "    tipo_pista                tracado_via    uso_solo       pessoas      \n",
       " Dupla   :27747   Reta              :41661   Não:36998   Min.   : 1.000  \n",
       " Múltipla: 5420   Curva             :10554   Sim:30448   1st Qu.: 1.000  \n",
       " Simples :34279   Não Informado     : 7183               Median : 2.000  \n",
       "                  Interseção de vias: 3243               Mean   : 2.406  \n",
       "                  Desvio Temporário : 1733               3rd Qu.: 3.000  \n",
       "                  Rotatória         : 1384               Max.   :74.000  \n",
       "                  (Other)           : 1688                               \n",
       "     mortos        feridos_leves    feridos_graves        ilesos      \n",
       " Min.   :0.00000   Min.   : 0.000   Min.   : 0.0000   Min.   : 0.000  \n",
       " 1st Qu.:0.00000   1st Qu.: 0.000   1st Qu.: 0.0000   1st Qu.: 0.000  \n",
       " Median :0.00000   Median : 1.000   Median : 0.0000   Median : 1.000  \n",
       " Mean   :0.07907   Mean   : 0.897   Mean   : 0.2754   Mean   : 1.018  \n",
       " 3rd Qu.:0.00000   3rd Qu.: 1.000   3rd Qu.: 0.0000   3rd Qu.: 1.000  \n",
       " Max.   :7.00000   Max.   :43.000   Max.   :22.0000   Max.   :62.000  \n",
       "                                                                      \n",
       "   ignorados          feridos          veiculos           latitude    \n",
       " Min.   : 0.0000   Min.   : 0.000   Min.   : 1.000   -27,59194:  103  \n",
       " 1st Qu.: 0.0000   1st Qu.: 1.000   1st Qu.: 1.000   -3,76999 :   86  \n",
       " Median : 0.0000   Median : 1.000   Median : 2.000   -8,766685:   78  \n",
       " Mean   : 0.1369   Mean   : 1.172   Mean   : 1.661   -27,61001:   74  \n",
       " 3rd Qu.: 0.0000   3rd Qu.: 1.000   3rd Qu.: 2.000   -27,60328:   70  \n",
       " Max.   :10.0000   Max.   :49.000   Max.   :14.000   -27,63697:   61  \n",
       "                                                     (Other)  :66974  \n",
       "     longitude        regional       delegacia           uop       \n",
       " -48,61825:   90   SR-MG  : 8706   DEL7/1 : 3147   UOP01/MG: 3700  \n",
       " -38,67006:   78   SR-SC  : 8472   DEL8/4 : 2422           : 3440  \n",
       " -63,88405:   78   SR-PR  : 7661   DEL8/1 : 2055   UOP01/SC: 3315  \n",
       " -48,63895:   74   SR-RJ  : 4604   DEL7/7 : 1827   UOP01/SP: 2595  \n",
       " -48,63202:   70   SR-RS  : 4600   DEL4/1 : 1820   UOP02/MG: 2409  \n",
       " -48,66514:   61   SR-SP  : 4370   DEL11/1: 1540   UOP01/BA: 2279  \n",
       " (Other)  :66995   (Other):29033   (Other):54635   (Other) :49708  "
      ]
     },
     "metadata": {},
     "output_type": "display_data"
    }
   ],
   "source": [
    "library(\"FactoMineR\")\n",
    "library(\"factoextra\")\n",
    "library(ggplot2)\n",
    "library(ggdark)\n",
    "\n",
    "df = read.table(\"datatran2019.csv\",sep=\";\",encoding='latin1', header=TRUE)\n",
    "\n",
    "str(df)\n",
    "summary(df)"
   ]
  },
  {
   "cell_type": "code",
   "execution_count": 2,
   "metadata": {
    "scrolled": true
   },
   "outputs": [
    {
     "name": "stdout",
     "output_type": "stream",
     "text": [
      "'data.frame':\t54561 obs. of  11 variables:\n",
      " $ data_inversa          : Factor w/ 365 levels \"2019-01-01\",\"2019-01-02\",..: 1 1 1 1 1 1 1 1 1 1 ...\n",
      " $ dia_semana            : Factor w/ 7 levels \"domingo\",\"quarta-feira\",..: 7 7 7 7 7 7 7 7 7 7 ...\n",
      " $ horario               : Factor w/ 1302 levels \"00:00:00\",\"00:01:00\",..: 75 75 37 1 52 89 42 108 96 104 ...\n",
      " $ causa_acidente        : Factor w/ 24 levels \"Agressão Externa\",..: 11 11 2 16 11 16 9 14 9 14 ...\n",
      " $ tipo_acidente         : Factor w/ 16 levels \"Atropelamento de Animal\",..: 5 9 5 5 8 15 8 6 6 6 ...\n",
      " $ classificacao_acidente: Factor w/ 3 levels \"Com Vítimas Fatais\",..: 2 2 2 2 2 2 2 2 2 2 ...\n",
      " $ fase_dia              : Factor w/ 4 levels \"Amanhecer\",\"Anoitecer\",..: 3 3 3 3 3 3 3 3 3 3 ...\n",
      " $ sentido_via           : Factor w/ 3 levels \"Crescente\",\"Decrescente\",..: 1 1 2 2 2 2 2 2 1 2 ...\n",
      " $ condicao_metereologica: Factor w/ 10 levels \"Céu Claro\",\"Chuva\",..: 1 8 1 8 8 1 1 8 2 1 ...\n",
      " $ tipo_pista            : Factor w/ 3 levels \"Dupla\",\"Múltipla\",..: 2 1 1 1 3 3 1 3 1 3 ...\n",
      " $ tracado_via           : Factor w/ 10 levels \"Curva\",\"Desvio Temporário\",..: 1 6 6 10 3 6 6 1 3 6 ...\n"
     ]
    },
    {
     "data": {
      "text/plain": [
       "     data_inversa           dia_semana       horario     \n",
       " 2019-12-21:  248   domingo      :9095   19:00:00:  744  \n",
       " 2019-04-07:  216   quarta-feira :6764   18:00:00:  728  \n",
       " 2019-07-20:  214   quinta-feira :7097   18:30:00:  678  \n",
       " 2019-11-15:  214   sábado       :9049   17:00:00:  619  \n",
       " 2019-09-08:  213   segunda-feira:7333   16:00:00:  610  \n",
       " 2019-12-08:  210   sexta-feira  :8489   19:30:00:  607  \n",
       " (Other)   :53246   terça-feira  :6734   (Other) :50575  \n",
       "                                           causa_acidente \n",
       " Falta de Atenção à Condução                      :22065  \n",
       " Desobediência às normas de trânsito pelo condutor: 7632  \n",
       " Velocidade Incompatível                          : 5248  \n",
       " Ingestão de Álcool                               : 4703  \n",
       " Não guardar distância de segurança               : 3712  \n",
       " Condutor Dormindo                                : 2262  \n",
       " (Other)                                          : 8939  \n",
       "                     tipo_acidente           classificacao_acidente\n",
       " Colisão traseira           :13121   Com Vítimas Fatais : 3353     \n",
       " Saída de leito carroçável  :10304   Com Vítimas Feridas:41878     \n",
       " Colisão transversal        : 8780   Sem Vítimas        : 9330     \n",
       " Colisão lateral            : 8341                                 \n",
       " Tombamento                 : 5153                                 \n",
       " Colisão com objeto estático: 4455                                 \n",
       " (Other)                    : 4407                                 \n",
       "        fase_dia            sentido_via       condicao_metereologica\n",
       " Amanhecer  : 2666   Crescente    :29144   Céu Claro     :31555     \n",
       " Anoitecer  : 2961   Decrescente  :25333   Nublado       : 9391     \n",
       " Plena Noite:18027   Não Informado:   84   Chuva         : 6017     \n",
       " Pleno dia  :30907                         Sol           : 4493     \n",
       "                                           Garoa/Chuvisco: 1850     \n",
       "                                           Ignorado      :  699     \n",
       "                                           (Other)       :  556     \n",
       "    tipo_pista                tracado_via   \n",
       " Dupla   :21845   Reta              :32656  \n",
       " Múltipla: 4426   Curva             : 8729  \n",
       " Simples :28290   Não Informado     : 6070  \n",
       "                  Interseção de vias: 3025  \n",
       "                  Desvio Temporário : 1356  \n",
       "                  Rotatória         : 1239  \n",
       "                  (Other)           : 1486  "
      ]
     },
     "metadata": {},
     "output_type": "display_data"
    }
   ],
   "source": [
    "df.util = df[c(2:4,9:16)]\n",
    "\n",
    "df.mini <- df.util[(df.util$causa_acidente == \"Falta de Atenção à Condução\" |\n",
    "                    df.util$causa_acidente == \"Desobediência às normas de trânsito pelo condutor\" |\n",
    "                    df.util$causa_acidente == \"ingestão de Álcool\" |\n",
    "                    df.util$causa_acidente == \"Velocidade Incompatível\" |\n",
    "                    df.util$causa_acidente == \"Não guardar distância de segurança\" |\n",
    "                    df.util$causa_acidente == \"Defeito Mecânico no Veículo\"\n",
    "                   ),]\n",
    "\n",
    "df.mini <- df.util[(df.util$tipo_acidente == \"Colisão traseira\" |\n",
    "                    df.util$tipo_acidente == \"Colisão transversal\" | \n",
    "                    df.util$tipo_acidente == \"Colisão lateral\" |\n",
    "                    df.util$tipo_acidente == \"Saída de leito carroçável\" |\n",
    "                    df.util$tipo_acidente == \"Colisão frontal\" |\n",
    "                    df.util$tipo_acidente == \"Tombamento\" |\n",
    "                    df.util$tipo_acidente == \"Colisão com objeto estático\"\n",
    "                   ),]\n",
    "\n",
    "df.mini <- na.omit(df.mini)\n",
    "\n",
    "str(df.mini)\n",
    "summary(df.mini)"
   ]
  },
  {
   "cell_type": "markdown",
   "metadata": {},
   "source": [
    "- Os dias que mais acoteceram acidentes foram em desembro \n",
    "- Domingo, sabado e sexta-feira são os dias que mais ocorrem acidentes, sendo terca quarta e quinta os que menos ocorrem\n",
    "- O estado que mais ocorre acidentes é MG e SC\n",
    "- Quase Metade dos casos são por Falta de Atenção à Condução\n",
    "- A maior parte dos acidentes acontece em Retas"
   ]
  },
  {
   "cell_type": "code",
   "execution_count": 3,
   "metadata": {},
   "outputs": [],
   "source": [
    "\n",
    "df.mca = MCA(df.mini,graph=FALSE,quali.sup=c(1:4,7:11),ncp=7)"
   ]
  },
  {
   "cell_type": "code",
   "execution_count": 4,
   "metadata": {},
   "outputs": [
    {
     "data": {
      "image/png": "[encoded data removed]",
      "text/plain": [
       "plot without title"
      ]
     },
     "metadata": {
      "image/png": {
       "height": 420,
       "width": 420
      },
      "text/plain": {
       "height": 420,
       "width": 420
      }
     },
     "output_type": "display_data"
    }
   ],
   "source": [
    "eig.val <- get_eigenvalue(df.mca)\n",
    "\n",
    "fviz_eig(df.mca, addlabels = TRUE, ylim = c(0, 40)) + dark_theme_gray(base_family = \"Fira Sans Condensed Light\", base_size = 14) + \n",
    "\n",
    "theme(plot.title = element_text(family = \"Fira Sans Condensed\"),\n",
    "        plot.background = element_rect(fill = \"grey10\"),\n",
    "        panel.background = element_blank(),\n",
    "        panel.grid.major = element_line(color = \"grey30\", size = 0.2),\n",
    "        panel.grid.minor = element_line(color = \"grey30\", size = 0.2),\n",
    "        legend.background = element_blank(),\n",
    "        axis.ticks = element_blank(),\n",
    "        legend.key = element_blank(),\n",
    "        legend.position = c(0.815, 0.27))"
   ]
  },
  {
   "cell_type": "code",
   "execution_count": null,
   "metadata": {},
   "outputs": [],
   "source": [
    "f1 = fviz_mca_var(df.mca, repel = TRUE, invisible=\"quali.sup\",col.var = \"cos2\", \n",
    "             gradient.cols = c(\"#00AFBB\", \"#E7B800\", \"#FC4E07\"),)\n",
    "\n",
    "f1 = f1 + labs(title = \"Análise de acidentes de trânsito\")\n",
    "\n",
    "f1 + dark_theme_gray(base_family = \"Fira Sans Condensed Light\", base_size = 14) + \n",
    "\n",
    "theme(plot.title = element_text(family = \"Fira Sans Condensed\"),\n",
    "        plot.background = element_rect(fill = \"grey10\"),\n",
    "        panel.background = element_blank(),\n",
    "        panel.grid.major = element_line(color = \"grey30\", size = 0.2),\n",
    "        panel.grid.minor = element_line(color = \"grey30\", size = 0.2),\n",
    "        legend.background = element_blank(),\n",
    "        axis.ticks = element_blank(),\n",
    "        legend.key = element_blank(),\n",
    "        legend.position = c(0.815, 0.27))"
   ]
  },
  {
   "cell_type": "code",
   "execution_count": null,
   "metadata": {},
   "outputs": [],
   "source": [
    "res.hcpc <- HCPC(df.mca, graph = FALSE)"
   ]
  },
  {
   "cell_type": "code",
   "execution_count": null,
   "metadata": {},
   "outputs": [],
   "source": [
    "fviz_cluster(res.hcpc, geom = \"point\", main = \"Factor map\")"
   ]
  }
 ],
 "metadata": {
  "kernelspec": {
   "display_name": "R",
   "language": "R",
   "name": "ir"
  },
  "language_info": {
   "codemirror_mode": "r",
   "file_extension": ".r",
   "mimetype": "text/x-r-source",
   "name": "R",
   "pygments_lexer": "r",
   "version": "3.6.2"
  }
 },
 "nbformat": 4,
 "nbformat_minor": 4
}
